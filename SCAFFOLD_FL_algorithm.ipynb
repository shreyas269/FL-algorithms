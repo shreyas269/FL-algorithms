{
 "cells": [
  {
   "cell_type": "markdown",
   "metadata": {
    "id": "vkdnLiKk71g-"
   },
   "source": [
    "##### Copyright 2020 The TensorFlow Authors."
   ]
  },
  {
   "cell_type": "code",
   "execution_count": 1,
   "metadata": {
    "cellView": "form",
    "id": "0asMuNro71hA"
   },
   "outputs": [],
   "source": [
    "#@title Licensed under the Apache License, Version 2.0 (the \"License\");\n",
    "# you may not use this file except in compliance with the License.\n",
    "# You may obtain a copy of the License at\n",
    "#\n",
    "# https://www.apache.org/licenses/LICENSE-2.0\n",
    "#\n",
    "# Unless required by applicable law or agreed to in writing, software\n",
    "# distributed under the License is distributed on an \"AS IS\" BASIS,\n",
    "# WITHOUT WARRANTIES OR CONDITIONS OF ANY KIND, either express or implied.\n",
    "# See the License for the specific language governing permissions and\n",
    "# limitations under the License."
   ]
  },
  {
   "cell_type": "markdown",
   "metadata": {
    "id": "iPFgLeZIsZ3Q"
   },
   "source": [
    "<table class=\"tfo-notebook-buttons\" align=\"left\">\n",
    "  <td>\n",
    "    <a target=\"_blank\" href=\"https://www.tensorflow.org/federated/tutorials/building_your_own_federated_learning_algorithm\"><img src=\"https://www.tensorflow.org/images/tf_logo_32px.png\" />View on TensorFlow.org</a>\n",
    "  </td>\n",
    "  <td>\n",
    "    <a target=\"_blank\" href=\"https://colab.research.google.com/github/tensorflow/federated/blob/main/docs/tutorials/building_your_own_federated_learning_algorithm.ipynb\"><img src=\"https://www.tensorflow.org/images/colab_logo_32px.png\" />Run in Google Colab</a>\n",
    "  </td>\n",
    "  <td>\n",
    "    <a target=\"_blank\" href=\"https://github.com/tensorflow/federated/blob/main/docs/tutorials/building_your_own_federated_learning_algorithm.ipynb\"><img src=\"https://www.tensorflow.org/images/GitHub-Mark-32px.png\" />View source on GitHub</a>\n",
    "  </td>\n",
    "  <td>\n",
    "    <a href=\"https://storage.googleapis.com/tensorflow_docs/federated/docs/tutorials/building_your_own_federated_learning_algorithm.ipynb\"><img src=\"https://www.tensorflow.org/images/download_logo_32px.png\" />Download notebook</a>\n",
    "  </td>\n",
    "</table>"
   ]
  },
  {
   "cell_type": "markdown",
   "metadata": {
    "id": "MnUwFbCAKB2r"
   },
   "source": [
    "## Before we start\n",
    "\n",
    "Before we start, please run the following to make sure that your environment is\n",
    "correctly setup. If you don't see a greeting, please refer to the\n",
    "[Installation](../install.md) guide for instructions. "
   ]
  },
  {
   "cell_type": "code",
   "execution_count": 2,
   "metadata": {
    "colab": {
     "base_uri": "https://localhost:8080/"
    },
    "id": "ZrGitA_KnRO0",
    "outputId": "7ce75dee-22a4-4b71-f4b1-2216a809b6a0"
   },
   "outputs": [],
   "source": [
    "#@test {\"skip\": true}\n",
    "# !pip install --quiet --upgrade tensorflow-federated-nightly\n",
    "# !pip install --quiet --upgrade nest-asyncio\n",
    "\n",
    "import nest_asyncio\n",
    "nest_asyncio.apply()"
   ]
  },
  {
   "cell_type": "code",
   "execution_count": 3,
   "metadata": {
    "colab": {
     "base_uri": "https://localhost:8080/",
     "height": 341
    },
    "id": "HGTM6tWOLo8M",
    "outputId": "522b612c-a295-40fb-e2b0-cf695285ffda"
   },
   "outputs": [
    {
     "name": "stderr",
     "output_type": "stream",
     "text": [
      "2022-02-23 00:45:17.127155: I tensorflow/stream_executor/platform/default/dso_loader.cc:53] Successfully opened dynamic library libcudart.so.11.0\n"
     ]
    }
   ],
   "source": [
    "import tensorflow as tf\n",
    "import tensorflow_federated as tff"
   ]
  },
  {
   "cell_type": "markdown",
   "metadata": {
    "id": "yr3ztf28fa1F"
   },
   "source": [
    "**NOTE**: This colab has been verified to work with the [latest released version](https://github.com/tensorflow/federated#compatibility) of the `tensorflow_federated` pip package, but the Tensorflow Federated project is still in pre-release development and may not work on `main`."
   ]
  },
  {
   "cell_type": "markdown",
   "metadata": {
    "id": "4Zv28F7QLo8O"
   },
   "source": [
    "# Building Your Own Federated Learning Algorithm\n",
    "\n",
    "In the [image classification](federated_learning_for_image_classification.ipynb) and\n",
    "[text generation](federated_learning_for_text_generation.ipynb) tutorials, we learned how to set up model and data pipelines for Federated Learning (FL), and performed federated training via the `tff.learning` API layer of TFF.\n",
    "\n",
    "This is only the tip of the iceberg when it comes to FL research. In this tutorial, we discuss how to implement federated learning algorithms *without* deferring to the `tff.learning` API. We aim to accomplish the following:\n",
    "\n",
    "**Goals:**\n",
    "\n",
    "\n",
    "*   Understand the general structure of federated learning algorithms.\n",
    "*   Explore the *Federated Core* of TFF.\n",
    "*   Use the Federated Core to implement Federated Averaging directly.\n",
    "\n",
    "While this tutorial is self-contained, we recommend first reading the [image classification](federated_learning_for_image_classification.ipynb) and\n",
    "[text generation](federated_learning_for_text_generation.ipynb) tutorials.\n"
   ]
  },
  {
   "cell_type": "markdown",
   "metadata": {
    "id": "hQ_N9XbULo8P"
   },
   "source": [
    "## Preparing the input data\n",
    "We first load and preprocess the EMNIST dataset included in TFF. For more details, see the [image classification](federated_learning_for_image_classification.ipynb) tutorial."
   ]
  },
  {
   "cell_type": "code",
   "execution_count": 4,
   "metadata": {
    "colab": {
     "base_uri": "https://localhost:8080/",
     "height": 164
    },
    "id": "-WdnFluLLo8P",
    "outputId": "9cac5e29-d935-4c1c-f12c-d3233e6dc41d"
   },
   "outputs": [
    {
     "name": "stderr",
     "output_type": "stream",
     "text": [
      "2022-02-23 00:45:33.990938: I tensorflow/stream_executor/platform/default/dso_loader.cc:53] Successfully opened dynamic library libcuda.so.1\n",
      "2022-02-23 00:45:34.011684: E tensorflow/stream_executor/cuda/cuda_driver.cc:328] failed call to cuInit: CUDA_ERROR_NO_DEVICE: no CUDA-capable device is detected\n",
      "2022-02-23 00:45:34.011749: I tensorflow/stream_executor/cuda/cuda_diagnostics.cc:169] retrieving CUDA diagnostic information for host: node094\n",
      "2022-02-23 00:45:34.011771: I tensorflow/stream_executor/cuda/cuda_diagnostics.cc:176] hostname: node094\n",
      "2022-02-23 00:45:34.011909: I tensorflow/stream_executor/cuda/cuda_diagnostics.cc:200] libcuda reported version is: 470.57.2\n",
      "2022-02-23 00:45:34.011986: I tensorflow/stream_executor/cuda/cuda_diagnostics.cc:204] kernel reported version is: 470.57.2\n",
      "2022-02-23 00:45:34.012004: I tensorflow/stream_executor/cuda/cuda_diagnostics.cc:310] kernel version seems to match DSO: 470.57.2\n",
      "2022-02-23 00:45:34.015154: I tensorflow/core/platform/cpu_feature_guard.cc:142] This TensorFlow binary is optimized with oneAPI Deep Neural Network Library (oneDNN) to use the following CPU instructions in performance-critical operations:  AVX2 FMA\n",
      "To enable them in other operations, rebuild TensorFlow with the appropriate compiler flags.\n"
     ]
    }
   ],
   "source": [
    "emnist_train, emnist_test = tff.simulation.datasets.emnist.load_data()"
   ]
  },
  {
   "cell_type": "markdown",
   "metadata": {
    "id": "kq8893GogB8E"
   },
   "source": [
    "In order to feed the dataset into our model, we flatten the data, and convert each example into a tuple of the form `(flattened_image_vector, label)`."
   ]
  },
  {
   "cell_type": "code",
   "execution_count": 5,
   "metadata": {
    "id": "Blrh8zJgLo8R"
   },
   "outputs": [],
   "source": [
    "NUM_CLIENTS = 10\n",
    "BATCH_SIZE = 20\n",
    "\n",
    "def preprocess(dataset):\n",
    "\n",
    "  def batch_format_fn(element):\n",
    "    \"\"\"Flatten a batch of EMNIST data and return a (features, label) tuple.\"\"\"\n",
    "    return (tf.reshape(element['pixels'], [-1, 784]), \n",
    "            tf.reshape(element['label'], [-1, 1]))\n",
    "\n",
    "  return dataset.batch(BATCH_SIZE).map(batch_format_fn)"
   ]
  },
  {
   "cell_type": "markdown",
   "metadata": {
    "id": "Piy8EzqmgNqV"
   },
   "source": [
    "We now select a small number of clients, and apply the preprocessing above to their datasets."
   ]
  },
  {
   "cell_type": "code",
   "execution_count": 234,
   "metadata": {
    "id": "-vYM_IT7Lo8W"
   },
   "outputs": [
    {
     "name": "stdout",
     "output_type": "stream",
     "text": [
      "0\n",
      "1\n",
      "2\n",
      "3\n",
      "4\n",
      "5\n",
      "6\n",
      "7\n",
      "8\n",
      "9\n"
     ]
    }
   ],
   "source": [
    "client_ids = sorted(emnist_train.client_ids)[:NUM_CLIENTS]\n",
    "federated_train_data = [preprocess(emnist_train.create_tf_dataset_for_client(x))\n",
    "  for x in client_ids\n",
    "]\n",
    "\n",
    "\n",
    "class ConvertFedData:\n",
    "    def __init__(self, data, client_id):\n",
    "        self.data = data\n",
    "        self.client_id = client_id\n",
    "\n",
    "\n",
    "federated_train_data_with_clients_ids = []\n",
    "for l in range(len(federated_train_data)):\n",
    "    print(l)\n",
    "    federated_train_data_with_clients_ids.append(ConvertFedData(federated_train_data[l], l))"
   ]
  },
  {
   "cell_type": "code",
   "execution_count": 359,
   "metadata": {
    "id": "jU9oapZyZNgE"
   },
   "outputs": [
    {
     "name": "stdout",
     "output_type": "stream",
     "text": [
      "['f0000_14', 'f0001_41', 'f0005_26', 'f0006_12', 'f0008_45', 'f0011_13', 'f0014_19', 'f0016_39', 'f0017_07', 'f0022_10']\n",
      "<class 'list'>\n",
      "Number of client datasets: 10\n",
      "\n",
      "\n",
      "\n",
      "\n",
      "First dataset: [<MapDataset shapes: ((None, 784), (None, 1)), types: (tf.float32, tf.int32)>, <MapDataset shapes: ((None, 784), (None, 1)), types: (tf.float32, tf.int32)>, <MapDataset shapes: ((None, 784), (None, 1)), types: (tf.float32, tf.int32)>, <MapDataset shapes: ((None, 784), (None, 1)), types: (tf.float32, tf.int32)>, <MapDataset shapes: ((None, 784), (None, 1)), types: (tf.float32, tf.int32)>, <MapDataset shapes: ((None, 784), (None, 1)), types: (tf.float32, tf.int32)>, <MapDataset shapes: ((None, 784), (None, 1)), types: (tf.float32, tf.int32)>, <MapDataset shapes: ((None, 784), (None, 1)), types: (tf.float32, tf.int32)>, <MapDataset shapes: ((None, 784), (None, 1)), types: (tf.float32, tf.int32)>, <MapDataset shapes: ((None, 784), (None, 1)), types: (tf.float32, tf.int32)>]\n",
      "\n",
      "\n",
      "First dataset: <MapDataset shapes: ((None, 784), (None, 1)), types: (tf.float32, tf.int32)>\n"
     ]
    }
   ],
   "source": [
    "print(emnist_train.client_ids[:NUM_CLIENTS])\n",
    "print(type(federated_train_data))\n",
    "\n",
    "\n",
    "print('Number of client datasets: {l}'.format(l=len(federated_train_data)))\n",
    "print(\"\\n\")\n",
    "print(\"\\n\")\n",
    "print('First dataset: {d}'.format(d=federated_train_data))\n",
    "print(\"\\n\")\n",
    "print('First dataset: {d}'.format(d=federated_train_data[0]))"
   ]
  },
  {
   "cell_type": "code",
   "execution_count": 236,
   "metadata": {},
   "outputs": [
    {
     "name": "stdout",
     "output_type": "stream",
     "text": [
      "['f0000_14', 'f0001_41', 'f0005_26', 'f0006_12', 'f0008_45', 'f0011_13', 'f0014_19', 'f0016_39', 'f0017_07', 'f0022_10']\n",
      "<class 'list'>\n",
      "0\n",
      "Number of client datasets: 10\n",
      "First dataset: <MapDataset shapes: ((None, 784), (None, 1)), types: (tf.float32, tf.int32)>\n",
      "First dataset: <__main__.ConvertFedData object at 0x2aac98cdf2b0>\n",
      "First dataset: <tensorflow_federated.python.simulation.datasets.serializable_client_data.PreprocessSerializableClientData object at 0x2aaab7bc2040>\n"
     ]
    }
   ],
   "source": [
    "print(emnist_train.client_ids[:NUM_CLIENTS])\n",
    "print(type(federated_train_data_with_clients_ids))\n",
    "print(federated_train_data_with_clients_ids[0].client_id)\n",
    "\n",
    "\n",
    "print('Number of client datasets: {l}'.format(l=len(federated_train_data_with_clients_ids)))\n",
    "print('First dataset: {d}'.format(d=federated_train_data_with_clients_ids[0].data))\n",
    "print('First dataset: {d}'.format(d=federated_train_data_with_clients_ids[0]))\n",
    "print('First dataset: {d}'.format(d=emnist_train))"
   ]
  },
  {
   "cell_type": "code",
   "execution_count": 24,
   "metadata": {},
   "outputs": [
    {
     "name": "stdout",
     "output_type": "stream",
     "text": [
      "1\n",
      "2\n",
      "3\n",
      "4\n",
      "5\n",
      "6\n",
      "7\n",
      "8\n",
      "9\n",
      "10\n"
     ]
    }
   ],
   "source": [
    "i=1\n",
    "for batch in federated_train_data:\n",
    "    print(i)\n",
    "    i = i+1"
   ]
  },
  {
   "cell_type": "code",
   "execution_count": 169,
   "metadata": {},
   "outputs": [
    {
     "name": "stdout",
     "output_type": "stream",
     "text": [
      "69.53334\n"
     ]
    }
   ],
   "source": [
    "@tff.federated_computation(tff.FederatedType(tf.float32, tff.CLIENTS), tff.FederatedType(tf.float32, tff.CLIENTS))\n",
    "def get_average_temperature(client_temperatures, client_additions):\n",
    "  return tff.federated_mean(client_temperatures)\n",
    "\n",
    "str(get_average_temperature.type_signature)\n",
    "print(get_average_temperature([68.5, 70.3, 69.8], [1, 1, 1]))"
   ]
  },
  {
   "cell_type": "markdown",
   "metadata": {
    "id": "gNO_Y9j_Lo8X"
   },
   "source": [
    "## Preparing the model"
   ]
  },
  {
   "cell_type": "markdown",
   "metadata": {
    "id": "LJ0I89ixz8yV"
   },
   "source": [
    "We use the same model as in the [image classification](federated_learning_for_image_classification.ipynb) tutorial. This model (implemented via `tf.keras`) has a single hidden layer, followed by a softmax layer."
   ]
  },
  {
   "cell_type": "code",
   "execution_count": 237,
   "metadata": {
    "id": "Yfld4oFNLo8Y"
   },
   "outputs": [],
   "source": [
    "def create_keras_model():\n",
    "  initializer = tf.keras.initializers.GlorotNormal(seed=0)\n",
    "  return tf.keras.models.Sequential([\n",
    "      tf.keras.layers.Input(shape=(784,)),\n",
    "      tf.keras.layers.Dense(10, kernel_initializer=initializer),\n",
    "      tf.keras.layers.Softmax(),\n",
    "  ])"
   ]
  },
  {
   "cell_type": "markdown",
   "metadata": {
    "id": "vLln0Q8G0Bky"
   },
   "source": [
    "In order to use this model in TFF, we wrap the Keras model as a [`tff.learning.Model`](https://www.tensorflow.org/federated/api_docs/python/tff/learning/Model). This allows us to perform the model's [forward pass](https://www.tensorflow.org/federated/api_docs/python/tff/learning/Model#forward_pass) within TFF, and [extract model outputs](https://www.tensorflow.org/federated/api_docs/python/tff/learning/Model#report_local_outputs). For more details, also see the [image classification](federated_learning_for_image_classification.ipynb) tutorial."
   ]
  },
  {
   "cell_type": "code",
   "execution_count": 180,
   "metadata": {
    "id": "SPwbipTNLo8a"
   },
   "outputs": [],
   "source": [
    "def model_fn():\n",
    "  keras_model = create_keras_model()\n",
    "  return tff.learning.from_keras_model(\n",
    "      keras_model,\n",
    "      input_spec=federated_train_data[0].element_spec,\n",
    "      loss=tf.keras.losses.SparseCategoricalCrossentropy(),\n",
    "      metrics=[tf.keras.metrics.SparseCategoricalAccuracy()])"
   ]
  },
  {
   "cell_type": "markdown",
   "metadata": {
    "id": "pCxa44rFiere"
   },
   "source": [
    "While we used `tf.keras` to create a `tff.learning.Model`, TFF supports much more general models. These models have the following relevant attributes capturing the model weights:\n",
    "\n",
    "*   `trainable_variables`: An iterable of the tensors corresponding to trainable layers.\n",
    "*   `non_trainable_variables`: An iterable of the tensors corresponding to non-trainable layers.\n",
    "\n",
    "For our purposes, we will only use the `trainable_variables`. (as our model only has those!)."
   ]
  },
  {
   "cell_type": "markdown",
   "metadata": {
    "id": "fPOWP2JjsfTk"
   },
   "source": [
    "# Building your own Federated Learning algorithm\n",
    "\n",
    "While the `tff.learning` API allows one to create many variants of Federated Averaging, there are other federated algorithms that do not fit neatly into this framework. For example, you may want to add regularization, clipping, or more complicated algorithms such as [federated GAN training](https://github.com/tensorflow/federated/tree/main/tensorflow_federated/python/research/gans). You may also be instead be interested in [federated analytics](https://ai.googleblog.com/2020/05/federated-analytics-collaborative-data.html)."
   ]
  },
  {
   "cell_type": "markdown",
   "metadata": {
    "id": "50N36Zz8qyY-"
   },
   "source": [
    "For these more advanced algorithms, we'll have to write our own custom algorithm using TFF. In many cases, federated algorithms have 4 main components:\n",
    "\n",
    "1. A server-to-client broadcast step.\n",
    "2. A local client update step.\n",
    "3. A client-to-server upload step.\n",
    "4. A server update step."
   ]
  },
  {
   "cell_type": "markdown",
   "metadata": {
    "id": "jH8s0GRdQt3b"
   },
   "source": [
    "In TFF, we generally represent federated algorithms as a [`tff.templates.IterativeProcess`](https://www.tensorflow.org/federated/api_docs/python/tff/templates/IterativeProcess) (which we refer to as just an `IterativeProcess` throughout). This is a class that contains `initialize` and `next` functions. Here, `initialize` is used to initialize the server, and `next` will perform one communication round of the federated algorithm. Let's write a skeleton of what our iterative process for FedAvg should look like.\n",
    "\n",
    "First, we have an initialize function that simply creates a `tff.learning.Model`, and returns its trainable weights."
   ]
  },
  {
   "cell_type": "code",
   "execution_count": 181,
   "metadata": {
    "id": "ylLpRa7T5DDh"
   },
   "outputs": [],
   "source": [
    "def initialize_fn():\n",
    "  model = model_fn()\n",
    "  return model.trainable_variables"
   ]
  },
  {
   "cell_type": "markdown",
   "metadata": {
    "id": "nb1-XAK8fB2A"
   },
   "source": [
    "This function looks good, but as we will see later, we will need to make a small modification to make it a \"TFF computation\".\n",
    "\n",
    "We also want to sketch the `next_fn`."
   ]
  },
  {
   "cell_type": "code",
   "execution_count": 281,
   "metadata": {
    "id": "IeHN-XLZfMso"
   },
   "outputs": [],
   "source": [
    "def next_fn(server_weights, federated_dataset):\n",
    "  # Broadcast the server weights to the clients.\n",
    "  server_weights_at_client = broadcast(server_weights)\n",
    "    \n",
    "  print('First dataset: {d}'.format(d=federated_dataset))\n",
    "\n",
    "  # Each client computes their updated weights.\n",
    "  client_weights = client_update(federated_dataset, server_weights_at_client)\n",
    "\n",
    "  # The server averages these updates.\n",
    "  mean_client_weights = mean(client_weights)\n",
    "\n",
    "  # The server updates its model.\n",
    "  server_weights = server_update(mean_client_weights)\n",
    "\n",
    "  return server_weights"
   ]
  },
  {
   "cell_type": "markdown",
   "metadata": {
    "id": "uWXvjXPWeujU"
   },
   "source": [
    "We'll focus on implementing these four components separately. We first focus on the parts that can be implemented in pure TensorFlow, namely the client and server update steps.\n"
   ]
  },
  {
   "cell_type": "markdown",
   "metadata": {
    "id": "3yKS4VkALo8g"
   },
   "source": [
    "## TensorFlow Blocks "
   ]
  },
  {
   "cell_type": "markdown",
   "metadata": {
    "id": "bxpNYucgLo8g"
   },
   "source": [
    "### Client update\n",
    "\n",
    "We will use our `tff.learning.Model` to do client training in essentially the same way you would train a TensorFlow model. In particular, we will use `tf.GradientTape` to compute the gradient on batches of data, then apply these gradient using a `client_optimizer`. We focus only on the trainable weights.\n"
   ]
  },
  {
   "cell_type": "code",
   "execution_count": 324,
   "metadata": {
    "id": "c5rHPKreLo8g"
   },
   "outputs": [],
   "source": [
    "@tf.function\n",
    "def client_update(model, dataset, server_weights, client_optimizer, server_state, client_states):\n",
    "  \"\"\"Performs training (using the server model weights) on the client's dataset.\"\"\"\n",
    "  # Initialize the client model with the current server weights.\n",
    "  client_weights = model.trainable_variables\n",
    "  # Assign the server weights to the client model.\n",
    "  tf.nest.map_structure(lambda x, y: x.assign(y),\n",
    "                        client_weights, server_weights)\n",
    "\n",
    "\n",
    "#   num_clients = len(dataset)\n",
    "#   print(\"Num clients: \", num_clients)\n",
    "  new_client_states = tf.zeros_like(client_states)\n",
    "\n",
    "  # Use the client_optimizer to update the local model.\n",
    "  running_client_id = 0\n",
    "  client_updated_states = client_weights\n",
    "  for batch in dataset:\n",
    "    with tf.GradientTape() as tape:\n",
    "      # Compute a forward pass on the batch of data\n",
    "      outputs = model.forward_pass(batch)\n",
    "\n",
    "    # Compute the corresponding gradient\n",
    "    grads = tape.gradient(outputs.loss, client_weights)\n",
    "    grads_and_vars = zip(grads, client_weights)\n",
    "    \n",
    "\n",
    "    # Apply the gradient using a client optimizer.\n",
    "    client_optimizer.apply_gradients(grads_and_vars)\n",
    "#     client_updated_states[running_client_id] = new_client_states - server_state + (server_weights - client_weights)/0.01\n",
    "    \n",
    "    running_client_id = running_client_id + 1\n",
    "\n",
    "  return client_weights, new_client_states\n",
    "#   return client_weights, client_updated_states"
   ]
  },
  {
   "cell_type": "code",
   "execution_count": 280,
   "metadata": {},
   "outputs": [],
   "source": [
    "@tf.function\n",
    "def client_update(model, dataset, server_weights, client_optimizer):\n",
    "  \"\"\"Performs training (using the server model weights) on the client's dataset.\"\"\"\n",
    "  # Initialize the client model with the current server weights.\n",
    "  client_weights = model.trainable_variables\n",
    "  # Assign the server weights to the client model.\n",
    "  tf.nest.map_structure(lambda x, y: x.assign(y),\n",
    "                        client_weights, server_weights)\n",
    "\n",
    "  # Use the client_optimizer to update the local model.\n",
    "  for batch in dataset:\n",
    "    with tf.GradientTape() as tape:\n",
    "      # Compute a forward pass on the batch of data\n",
    "      outputs = model.forward_pass(batch)\n",
    "\n",
    "    # Compute the corresponding gradient\n",
    "    grads = tape.gradient(outputs.loss, client_weights)\n",
    "    grads_and_vars = zip(grads, client_weights)\n",
    "\n",
    "    # Apply the gradient using a client optimizer.\n",
    "    client_optimizer.apply_gradients(grads_and_vars)\n",
    "\n",
    "  return client_weights"
   ]
  },
  {
   "cell_type": "markdown",
   "metadata": {
    "id": "pP0D9XtoLo8i"
   },
   "source": [
    "### Server Update\n",
    "\n",
    "The server update for FedAvg is simpler than the client update. We will implement \"vanilla\" federated averaging, in which we simply replace the server model weights by the average of the client model weights. Again, we only focus on the trainable weights."
   ]
  },
  {
   "cell_type": "code",
   "execution_count": 325,
   "metadata": {
    "id": "rYxErLvHLo8i"
   },
   "outputs": [],
   "source": [
    "@tf.function\n",
    "def server_update(model, mean_client_weights):\n",
    "  \"\"\"Updates the server model weights as the average of the client model weights.\"\"\"\n",
    "  model_weights = model.trainable_variables\n",
    "  # Assign the mean client weights to the server model.\n",
    "  tf.nest.map_structure(lambda x, y: x.assign(y),\n",
    "                        model_weights, mean_client_weights)\n",
    "  return model_weights"
   ]
  },
  {
   "cell_type": "markdown",
   "metadata": {
    "id": "ddCklfWlVr1U"
   },
   "source": [
    "The snippet could be simplified by simply returning the `mean_client_weights`. However, more advanced implementations of Federated Averaging use `mean_client_weights` with more sophisticated techniques, such as momentum or adaptivity.\n",
    "\n",
    "**Challenge**: Implement a version of `server_update` that updates the server weights to be the midpoint of model_weights and mean_client_weights. (Note: This kind of \"midpoint\" approach is analogous to recent work on the [Lookahead optimizer](https://arxiv.org/abs/1907.08610)!)."
   ]
  },
  {
   "cell_type": "markdown",
   "metadata": {
    "id": "KuP9g6RFLo8k"
   },
   "source": [
    "So far, we've only written pure TensorFlow code. This is by design, as TFF allows you to use much of the TensorFlow code you're already familiar with. However, now we have to specify the **orchestration logic**, that is, the logic that dictates what the server broadcasts to the client, and what the client uploads to the server.\n",
    "\n",
    "This will require the *Federated Core* of TFF."
   ]
  },
  {
   "cell_type": "markdown",
   "metadata": {
    "id": "0CgFLVPgLo8l"
   },
   "source": [
    "# Introduction to the Federated Core\n",
    "\n",
    "The Federated Core (FC) is a set of lower-level interfaces that serve as the foundation for the `tff.learning` API. However, these interfaces are not limited to learning. In fact, they can be used for analytics and many other computations over distributed data.\n",
    "\n",
    "At a high-level, the federated core is a development environment that enables compactly expressed program logic to combine TensorFlow code with distributed communication operators (such as distributed sums and broadcasts). The goal is to give researchers and practitioners expliict control over the distributed communication in their systems, without requiring system implementation details (such as specifying point-to-point network message exchanges).\n",
    "\n",
    "One key point is that TFF is designed for privacy-preservation. Therefore, it allows explicit control over where data resides, to prevent unwanted accumulation of data at the centralized server location."
   ]
  },
  {
   "cell_type": "markdown",
   "metadata": {
    "id": "EYinjNqZLo8l"
   },
   "source": [
    "## Federated data\n",
    "\n",
    "A key concept in TFF is \"federated data\", which refers to a collection of data items hosted across a group of devices in a distributed system (eg. client datasets, or the server model weights). We model the entire collection of data items across all devices as a single *federated value*.\n",
    "\n",
    "For example, suppose we have client devices that each have a float representing the temperature of a sensor. We could represent it as a *federated float* by"
   ]
  },
  {
   "cell_type": "code",
   "execution_count": 326,
   "metadata": {
    "id": "7EJY0MHpLo8l"
   },
   "outputs": [],
   "source": [
    "federated_float_on_clients = tff.FederatedType(tf.float32, tff.CLIENTS)"
   ]
  },
  {
   "cell_type": "markdown",
   "metadata": {
    "id": "JSQAXD0FLo8n"
   },
   "source": [
    "Federated types are specified by a type `T` of its member constituents (eg. `tf.float32`) and a group `G` of devices. We will focus on the cases where `G` is either `tff.CLIENTS` or `tff.SERVER`. Such a federated type is represented as `{T}@G`, as shown below."
   ]
  },
  {
   "cell_type": "code",
   "execution_count": 327,
   "metadata": {
    "id": "6mlPgubJLo8n"
   },
   "outputs": [
    {
     "data": {
      "text/plain": [
       "'{float32}@CLIENTS'"
      ]
     },
     "execution_count": 327,
     "metadata": {},
     "output_type": "execute_result"
    }
   ],
   "source": [
    "str(federated_float_on_clients)"
   ]
  },
  {
   "cell_type": "markdown",
   "metadata": {
    "id": "pjAQytkeLo8o"
   },
   "source": [
    "Why do we care so much about placements? A key goal of TFF is to enable writing code that could be deployed on a real distributed system. This means that it is vital to reason about which subsets of devices execute which code, and where different pieces of data reside.\n",
    "\n",
    "TFF focuses on three things: *data*, where the data is *placed*, and how the data is being *transformed*. The first two are encapsulated in federated types, while the last is encapsulated in *federated computations*."
   ]
  },
  {
   "cell_type": "markdown",
   "metadata": {
    "id": "ZLT2FmVMLo8p"
   },
   "source": [
    "## Federated computations"
   ]
  },
  {
   "cell_type": "markdown",
   "metadata": {
    "id": "-XwDC1vTLo8p"
   },
   "source": [
    "TFF is a strongly-typed functional programming environment whose basic units are *federated computations*. These are pieces of logic that accept federated values as input, and return federated values as output.\n",
    "\n",
    "For example, suppose we wanted to average the temperatures on our client sensors. We could define the following (using our federated float):"
   ]
  },
  {
   "cell_type": "code",
   "execution_count": 328,
   "metadata": {
    "id": "IfwXDNR1Lo8p"
   },
   "outputs": [],
   "source": [
    "@tff.federated_computation(tff.FederatedType(tf.float32, tff.CLIENTS))\n",
    "def get_average_temperature(client_temperatures):\n",
    "  return tff.federated_mean(client_temperatures)"
   ]
  },
  {
   "cell_type": "markdown",
   "metadata": {
    "id": "iSgs6Te5Lo8r"
   },
   "source": [
    "You might ask, how is this different from the `tf.function` decorator in TensorFlow? The key answer is that the code generated by `tff.federated_computation` is neither TensorFlow nor Python code; It is a specification of a distributed system in an internal platform-independent *glue language*.\n",
    "\n",
    "While this may sound complicated, you can think of TFF computations as functions with well-defined type signatures. These type signatures can be directly queried."
   ]
  },
  {
   "cell_type": "code",
   "execution_count": 329,
   "metadata": {
    "id": "mVq500KzG2mB"
   },
   "outputs": [
    {
     "data": {
      "text/plain": [
       "'({float32}@CLIENTS -> float32@SERVER)'"
      ]
     },
     "execution_count": 329,
     "metadata": {},
     "output_type": "execute_result"
    }
   ],
   "source": [
    "str(get_average_temperature.type_signature)"
   ]
  },
  {
   "cell_type": "markdown",
   "metadata": {
    "id": "TveOYFfuLo8s"
   },
   "source": [
    "This `tff.federated_computation` accepts arguments of federated type `{float32}@CLIENTS`, and returns values of federated type `{float32}@SERVER`. Federated computations may also go from server to client, from client to client, or from server to server. Federated computations can also be composed like normal functions, as long as their type signatures match up.\n",
    "\n",
    "To support development, TFF allows you to invoke a `tff.federated_computation` as a Python function. For example, we can call"
   ]
  },
  {
   "cell_type": "code",
   "execution_count": 330,
   "metadata": {
    "id": "PTowUHohG2mB"
   },
   "outputs": [
    {
     "data": {
      "text/plain": [
       "69.53334"
      ]
     },
     "execution_count": 330,
     "metadata": {},
     "output_type": "execute_result"
    }
   ],
   "source": [
    "get_average_temperature([68.5, 70.3, 69.8])"
   ]
  },
  {
   "cell_type": "markdown",
   "metadata": {
    "id": "ZXn-yje9RJ6H"
   },
   "source": [
    "## Non-eager computations and TensorFlow"
   ]
  },
  {
   "cell_type": "markdown",
   "metadata": {
    "id": "nwyj8f3HLo8w"
   },
   "source": [
    "There are two key restrictions to be aware of. First, when the Python interpreter encounters a `tff.federated_computation` decorator, the function is traced once and serialized for future use. Due to the decentralized nature of Federated Learning, this future usage may occur elsewhere, such as a remote execution environment. Therefore, TFF computations are fundamentally *non-eager*. This behavior is somewhat analogous to that of the [`tf.function`](https://www.tensorflow.org/api_docs/python/tf/function) decorator in TensorFlow.\n",
    "\n",
    "Second, a federated computation can only consist of federated operators (such as `tff.federated_mean`), they cannot contain TensorFlow operations. TensorFlow code must be confined to blocks decorated with `tff.tf_computation`. Most ordinary TensorFlow code can be directly decorated, such as the following function that takes a number and adds `0.5` to it."
   ]
  },
  {
   "cell_type": "code",
   "execution_count": 331,
   "metadata": {
    "id": "huz3mNmMLo8w"
   },
   "outputs": [],
   "source": [
    "@tff.tf_computation(tf.float32)\n",
    "def add_half(x):\n",
    "  return tf.add(x, 0.5)"
   ]
  },
  {
   "cell_type": "markdown",
   "metadata": {
    "id": "5ptjWALDLo8y"
   },
   "source": [
    "These also have type signatures, but *without placements*. For example, we can call"
   ]
  },
  {
   "cell_type": "code",
   "execution_count": 332,
   "metadata": {
    "id": "34x5H2hzG2mC"
   },
   "outputs": [
    {
     "data": {
      "text/plain": [
       "'(float32 -> float32)'"
      ]
     },
     "execution_count": 332,
     "metadata": {},
     "output_type": "execute_result"
    }
   ],
   "source": [
    "str(add_half.type_signature)"
   ]
  },
  {
   "cell_type": "markdown",
   "metadata": {
    "id": "WNjwrNMjLo8z"
   },
   "source": [
    "Here we see an important difference between `tff.federated_computation` and `tff.tf_computation`. The former has explicit placements, while the latter does not.\n",
    "\n",
    "We can use `tff.tf_computation` blocks in federated computations by specifying placements. Let's create a function that adds half, but only to federated floats at the clients. We can do this by using `tff.federated_map`, which applies a given `tff.tf_computation`, while preserving the placement."
   ]
  },
  {
   "cell_type": "code",
   "execution_count": 333,
   "metadata": {
    "id": "pG6nw3wiLo80"
   },
   "outputs": [],
   "source": [
    "@tff.federated_computation(tff.FederatedType(tf.float32, tff.CLIENTS))\n",
    "def add_half_on_clients(x):\n",
    "  return tff.federated_map(add_half, x)"
   ]
  },
  {
   "cell_type": "markdown",
   "metadata": {
    "id": "h4msKRKJLo81"
   },
   "source": [
    "This function is almost identical to `add_half`, except that it only accepts values with placement at `tff.CLIENTS`, and returns values with the same placement. We can see this in its type signature:"
   ]
  },
  {
   "cell_type": "code",
   "execution_count": 334,
   "metadata": {
    "id": "x3H-oeWIG2mC"
   },
   "outputs": [
    {
     "data": {
      "text/plain": [
       "'({float32}@CLIENTS -> {float32}@CLIENTS)'"
      ]
     },
     "execution_count": 334,
     "metadata": {},
     "output_type": "execute_result"
    }
   ],
   "source": [
    "str(add_half_on_clients.type_signature)"
   ]
  },
  {
   "cell_type": "markdown",
   "metadata": {
    "id": "3JxQ0DeiLo83"
   },
   "source": [
    "In summary:\n",
    "\n",
    "*   TFF operates on federated values.\n",
    "*   Each federated value has a *federated type*, with a *type* (eg. `tf.float32`) and a *placement* (eg. `tff.CLIENTS`).\n",
    "*   Federated values can be transformed using *federated computations*, which must be decorated with `tff.federated_computation` and a federated type signature.\n",
    "*   TensorFlow code must be contained in blocks with `tff.tf_computation` decorators. \n",
    "*   These blocks can then be incorporated into federated computations.\n"
   ]
  },
  {
   "cell_type": "markdown",
   "metadata": {
    "id": "PvyFWox3Lo83"
   },
   "source": [
    "# Building your own Federated Learning algorithm, revisited\n",
    "\n",
    "Now that we've gotten a glimpse of the Federated Core, we can build our own federated learning algorithm. Remember that above, we defined an `initialize_fn` and `next_fn` for our algorithm. The `next_fn` will make use of the `client_update` and `server_update` we defined using pure TensorFlow code.\n",
    "\n",
    "However, in order to make our algorithm a federated computation, we will need both the `next_fn` and `initialize_fn` to each be a `tff.federated_computation`."
   ]
  },
  {
   "cell_type": "markdown",
   "metadata": {
    "id": "CvY8fh1cLo84"
   },
   "source": [
    "## TensorFlow Federated blocks "
   ]
  },
  {
   "cell_type": "markdown",
   "metadata": {
    "id": "g0zNTO7LLo84"
   },
   "source": [
    "### Creating the initialization computation\n",
    "\n",
    "The initialize function will be quite simple: We will create a model using `model_fn`. However, remember that we must separate out our TensorFlow code using `tff.tf_computation`."
   ]
  },
  {
   "cell_type": "code",
   "execution_count": 335,
   "metadata": {
    "id": "jJY9xUBZLo84"
   },
   "outputs": [
    {
     "name": "stdout",
     "output_type": "stream",
     "text": [
      "WARNING:tensorflow:Please add `keras.layers.InputLayer` instead of `keras.Input` to Sequential model. `keras.Input` is intended to be used by Functional model.\n"
     ]
    },
    {
     "name": "stderr",
     "output_type": "stream",
     "text": [
      "WARNING:tensorflow:Please add `keras.layers.InputLayer` instead of `keras.Input` to Sequential model. `keras.Input` is intended to be used by Functional model.\n"
     ]
    }
   ],
   "source": [
    "@tff.tf_computation\n",
    "def server_init():\n",
    "  model = model_fn()\n",
    "  return model.trainable_variables"
   ]
  },
  {
   "cell_type": "markdown",
   "metadata": {
    "id": "SGlv8LLgLo85"
   },
   "source": [
    "We can then pass this directly into a federated computation using `tff.federated_value`."
   ]
  },
  {
   "cell_type": "code",
   "execution_count": 336,
   "metadata": {
    "id": "m2hinzuRLo86"
   },
   "outputs": [],
   "source": [
    "@tff.federated_computation\n",
    "def initialize_fn():\n",
    "  return tff.federated_value(server_init(), tff.SERVER)"
   ]
  },
  {
   "cell_type": "markdown",
   "metadata": {
    "id": "NFBghOgxLo88"
   },
   "source": [
    "### Creating the `next_fn`\n",
    "\n",
    "We now use our client and server update code to write the actual algorithm. We will first turn our `client_update` into a `tff.tf_computation` that accepts a client datasets and server weights, and outputs an updated client weights tensor.\n",
    "\n",
    "We will need the corresponding types to properly decorate our function. Luckily, the type of the server weights can be extracted directly from our model."
   ]
  },
  {
   "cell_type": "code",
   "execution_count": 337,
   "metadata": {
    "id": "ph_noHN2Lo88"
   },
   "outputs": [
    {
     "name": "stdout",
     "output_type": "stream",
     "text": [
      "WARNING:tensorflow:Please add `keras.layers.InputLayer` instead of `keras.Input` to Sequential model. `keras.Input` is intended to be used by Functional model.\n"
     ]
    },
    {
     "name": "stderr",
     "output_type": "stream",
     "text": [
      "WARNING:tensorflow:Please add `keras.layers.InputLayer` instead of `keras.Input` to Sequential model. `keras.Input` is intended to be used by Functional model.\n"
     ]
    }
   ],
   "source": [
    "whimsy_model = model_fn()\n",
    "tf_dataset_type = tff.SequenceType(whimsy_model.input_spec)"
   ]
  },
  {
   "cell_type": "code",
   "execution_count": 338,
   "metadata": {},
   "outputs": [],
   "source": [
    "# tf_dataset_type = federated_train_data_with_clients_ids[0]"
   ]
  },
  {
   "cell_type": "markdown",
   "metadata": {
    "id": "WMPgpTaW66qx"
   },
   "source": [
    "Let's look at the dataset type signature. Remember that we took 28 by 28 images (with integer labels) and flattened them."
   ]
  },
  {
   "cell_type": "code",
   "execution_count": 339,
   "metadata": {
    "id": "GE2sYVA9G2mE"
   },
   "outputs": [
    {
     "data": {
      "text/plain": [
       "'<float32[?,784],int32[?,1]>*'"
      ]
     },
     "execution_count": 339,
     "metadata": {},
     "output_type": "execute_result"
    }
   ],
   "source": [
    "str(tf_dataset_type)"
   ]
  },
  {
   "cell_type": "markdown",
   "metadata": {
    "id": "kuS8d0BHLo8-"
   },
   "source": [
    "We can also extract the model weights type by using our `server_init` function above."
   ]
  },
  {
   "cell_type": "code",
   "execution_count": 340,
   "metadata": {
    "id": "4yx6CExMLo8-"
   },
   "outputs": [],
   "source": [
    "model_weights_type = server_init.type_signature.result"
   ]
  },
  {
   "cell_type": "markdown",
   "metadata": {
    "id": "mS-Eh6Xj7J15"
   },
   "source": [
    "Examining the type signature, we'll be able to see the architecture of our model!"
   ]
  },
  {
   "cell_type": "code",
   "execution_count": 341,
   "metadata": {
    "id": "_s8eFsyvG2mE"
   },
   "outputs": [
    {
     "data": {
      "text/plain": [
       "'<float32[784,10],float32[10]>'"
      ]
     },
     "execution_count": 341,
     "metadata": {},
     "output_type": "execute_result"
    }
   ],
   "source": [
    "str(model_weights_type)"
   ]
  },
  {
   "cell_type": "code",
   "execution_count": 342,
   "metadata": {},
   "outputs": [],
   "source": [
    "# Scaffold updated\n",
    "\n",
    "server_state_type = tf.constant(0.0).dtype\n",
    "client_states_type = tf.zeros(10, tf.float32).dtype"
   ]
  },
  {
   "cell_type": "markdown",
   "metadata": {
    "id": "g1U1wTGRLo8_"
   },
   "source": [
    "We can now create our `tff.tf_computation` for the client update."
   ]
  },
  {
   "cell_type": "code",
   "execution_count": 221,
   "metadata": {
    "id": "Q0W05pMWLo9A"
   },
   "outputs": [
    {
     "name": "stdout",
     "output_type": "stream",
     "text": [
      "WARNING:tensorflow:Please add `keras.layers.InputLayer` instead of `keras.Input` to Sequential model. `keras.Input` is intended to be used by Functional model.\n"
     ]
    },
    {
     "name": "stderr",
     "output_type": "stream",
     "text": [
      "WARNING:tensorflow:Please add `keras.layers.InputLayer` instead of `keras.Input` to Sequential model. `keras.Input` is intended to be used by Functional model.\n"
     ]
    }
   ],
   "source": [
    "@tff.tf_computation(tf_dataset_type, model_weights_type)\n",
    "def client_update_fn(tf_dataset, server_weights):\n",
    "  model = model_fn()\n",
    "  client_optimizer = tf.keras.optimizers.SGD(learning_rate=0.01)\n",
    "  return client_update(model, tf_dataset, server_weights, client_optimizer)"
   ]
  },
  {
   "cell_type": "code",
   "execution_count": 343,
   "metadata": {},
   "outputs": [
    {
     "name": "stdout",
     "output_type": "stream",
     "text": [
      "WARNING:tensorflow:Please add `keras.layers.InputLayer` instead of `keras.Input` to Sequential model. `keras.Input` is intended to be used by Functional model.\n"
     ]
    },
    {
     "name": "stderr",
     "output_type": "stream",
     "text": [
      "WARNING:tensorflow:Please add `keras.layers.InputLayer` instead of `keras.Input` to Sequential model. `keras.Input` is intended to be used by Functional model.\n"
     ]
    }
   ],
   "source": [
    "# SCAFFOLD UPDATED \n",
    "\n",
    "@tff.tf_computation(tf_dataset_type, model_weights_type, server_state_type, client_states_type)\n",
    "def client_update_fn(tf_dataset, server_weights, server_state, client_states):\n",
    "  model = model_fn()\n",
    "  client_optimizer = tf.keras.optimizers.SGD(learning_rate=0.01)\n",
    "  return client_update(model, tf_dataset, server_weights, client_optimizer, server_state, client_states)"
   ]
  },
  {
   "cell_type": "markdown",
   "metadata": {
    "id": "uP5quaAuLo9B"
   },
   "source": [
    "The `tff.tf_computation` version of the server update can be defined in a similar way, using types we've already extracted."
   ]
  },
  {
   "cell_type": "code",
   "execution_count": 344,
   "metadata": {
    "id": "F4WvQtVzLo9B"
   },
   "outputs": [
    {
     "name": "stdout",
     "output_type": "stream",
     "text": [
      "WARNING:tensorflow:Please add `keras.layers.InputLayer` instead of `keras.Input` to Sequential model. `keras.Input` is intended to be used by Functional model.\n"
     ]
    },
    {
     "name": "stderr",
     "output_type": "stream",
     "text": [
      "WARNING:tensorflow:Please add `keras.layers.InputLayer` instead of `keras.Input` to Sequential model. `keras.Input` is intended to be used by Functional model.\n"
     ]
    }
   ],
   "source": [
    "@tff.tf_computation(model_weights_type)\n",
    "def server_update_fn(mean_client_weights):\n",
    "  model = model_fn()\n",
    "  return server_update(model, mean_client_weights)"
   ]
  },
  {
   "cell_type": "markdown",
   "metadata": {
    "id": "SImhLbu4Lo9D"
   },
   "source": [
    "Last, but not least, we need to create the `tff.federated_computation` that brings this all together. This function will accept two *federated values*, one corresponding to the server weights (with placement `tff.SERVER`), and the other corresponding to the client datasets (with placement `tff.CLIENTS`).\n",
    "\n",
    "Note that both these types were defined above! We simply need to give them the proper placement using `tff.FederatedType`."
   ]
  },
  {
   "cell_type": "code",
   "execution_count": 345,
   "metadata": {
    "id": "ekPsA8AsLo9D"
   },
   "outputs": [],
   "source": [
    "federated_server_type = tff.FederatedType(model_weights_type, tff.SERVER)\n",
    "federated_dataset_type = tff.FederatedType(tf_dataset_type, tff.CLIENTS)"
   ]
  },
  {
   "cell_type": "code",
   "execution_count": 346,
   "metadata": {},
   "outputs": [
    {
     "name": "stdout",
     "output_type": "stream",
     "text": [
      "float32@SERVER\n",
      "{float32}@CLIENTS\n"
     ]
    }
   ],
   "source": [
    "# Scaffold UPDATED\n",
    "\n",
    "federated_server_state_type = tff.FederatedType(server_state_type, tff.SERVER)\n",
    "federated_client_states_type = tff.FederatedType(client_states_type, tff.CLIENTS)\n",
    "print(federated_server_state_type)\n",
    "print(federated_client_states_type)"
   ]
  },
  {
   "cell_type": "markdown",
   "metadata": {
    "id": "7FXAX7vGLo9G"
   },
   "source": [
    "Remember the 4 elements of an FL algorithm?\n",
    "\n",
    "1. A server-to-client broadcast step.\n",
    "2. A local client update step.\n",
    "3. A client-to-server upload step.\n",
    "4. A server update step.\n",
    "\n",
    "Now that we've built up the above, each part can be compactly represented as a single line of TFF code. This simplicity is why we had to take extra care to specify things such as federated types!"
   ]
  },
  {
   "cell_type": "code",
   "execution_count": 226,
   "metadata": {
    "id": "Epc7MwfELo9G"
   },
   "outputs": [],
   "source": [
    "@tff.federated_computation(federated_server_type, federated_dataset_type)\n",
    "def next_fn(server_weights, federated_dataset):\n",
    "  # Broadcast the server weights to the clients.\n",
    "  server_weights_at_client = tff.federated_broadcast(server_weights)\n",
    "\n",
    "  # Each client computes their updated weights.\n",
    "  client_weights = tff.federated_map(\n",
    "      client_update_fn, (federated_dataset, server_weights_at_client))\n",
    "  \n",
    "  # The server averages these updates.\n",
    "  mean_client_weights = tff.federated_mean(client_weights)\n",
    "\n",
    "  # The server updates its model.\n",
    "  server_weights = tff.federated_map(server_update_fn, mean_client_weights)\n",
    "\n",
    "  return server_weights"
   ]
  },
  {
   "cell_type": "code",
   "execution_count": 347,
   "metadata": {},
   "outputs": [],
   "source": [
    "#   def run_one_round_public(server_state, federated_dataset, client_states):\n",
    "#     \"\"\"Orchestration logic for one round of computation.\n",
    "#     Args:\n",
    "#       server_state: A `ServerState`.\n",
    "#       federated_dataset: A federated `tf.data.Dataset` with placement\n",
    "#         `tff.CLIENTS`.\n",
    "#     Returns:\n",
    "#       A tuple of updated `ServerState` and `tf.Tensor` of average loss.\n",
    "#     \"\"\"\n",
    "#     server_message = tff.federated_map(server_message_fn, server_state)\n",
    "#     server_message_at_client = tff.federated_broadcast(server_message)\n",
    "\n",
    "#     client_outputs = tff.federated_map(\n",
    "#         client_update_fn, (federated_dataset, client_states, server_message_at_client))\n",
    "\n",
    "#     # Model deltas are equally weighted in DP.\n",
    "#     round_model_delta = tff.federated_mean(client_outputs.weights_delta)\n",
    "#     updated_client_states = client_outputs.client_state\n",
    "\n",
    "#     sum_control_weights_delta = tff.federated_sum(\n",
    "#         client_outputs.control_weights_delta)\n",
    "#     server_state = tff.federated_map(\n",
    "#         public_server_update_fn,\n",
    "#         (server_state, round_model_delta, sum_control_weights_delta))\n",
    "\n",
    "#     round_loss_metric = tff.federated_mean(client_outputs.model_output)\n",
    "\n",
    "#     return server_state, round_loss_metric, updated_client_states\n",
    "\n",
    "\n",
    "@tff.federated_computation(federated_server_type, federated_dataset_type, federated_server_state_type, federated_client_states_type)\n",
    "def next_fn(server_weights, federated_dataset, server_state, client_states):\n",
    "  # Broadcast the server weights to the clients.\n",
    "  server_weights_at_client = tff.federated_broadcast(server_weights)\n",
    "  server_state_at_client = tff.federated_broadcast(server_state)\n",
    "\n",
    "  # Each client computes their updated weights.\n",
    "  client_weights, client_updated_states = tff.federated_map(\n",
    "      client_update_fn, (federated_dataset, server_weights_at_client, server_state_at_client, client_states))\n",
    "  \n",
    "  # The server averages these updates.\n",
    "  mean_client_weights = tff.federated_mean(client_weights)\n",
    "  # mean_client_state = tff.federated_mean(client_.....)\n",
    "\n",
    "  # The server updates its model.\n",
    "  server_weights = tff.federated_map(server_update_fn, mean_client_weights)\n",
    "\n",
    "  return server_weights"
   ]
  },
  {
   "cell_type": "code",
   "execution_count": null,
   "metadata": {},
   "outputs": [],
   "source": [
    "class ScaffoldOptimizer(keras.optimizers.Optimizer):\n",
    "    def __init__(self, learning_rate=0.01, name=\"ScaffoldOptimizer\", **kwargs):\n",
    "        \"\"\"Call super().__init__() and use _set_hyper() to store hyperparameters\"\"\"\n",
    "        super().__init__(name, **kwargs)\n",
    "        self._set_hyper(\"learning_rate\", kwargs.get(\"lr\", learning_rate)) # handle lr=learning_rate\n",
    "        self._is_first = True\n",
    "    \n",
    "    def _create_slots(self, var_list):\n",
    "        \"\"\"For each model variable, create the optimizer variable associated with it.\n",
    "        TensorFlow calls these optimizer variables \"slots\".\n",
    "        For momentum optimization, we need one momentum slot per model variable.\n",
    "        \"\"\"\n",
    "        for var in var_list:\n",
    "            self.add_slot(var, \"pv\") #previous variable i.e. weight or bias\n",
    "        for var in var_list:\n",
    "            self.add_slot(var, \"pg\") #previous gradient\n",
    "\n",
    "\n",
    "    @tf.function\n",
    "    def _resource_apply_dense(self, grad, var, server_controls, client_controls):\n",
    "        \"\"\"Update the slots and perform one optimization step for one model variable\n",
    "        \"\"\"\n",
    "        var_dtype = var.dtype.base_dtype\n",
    "        lr_t = self._decayed_lr(var_dtype) # handle learning rate decay\n",
    "        new_var_m = var - (grad - c_i + c) * lr_t\n",
    "        pv_var = self.get_slot(var, \"pv\")\n",
    "        pg_var = self.get_slot(var, \"pg\")\n",
    "        \n",
    "        if self._is_first:\n",
    "            self._is_first = False\n",
    "            new_var = new_var_m\n",
    "        else:\n",
    "            cond = grad*pg_var >= 0\n",
    "            print(cond)\n",
    "            avg_weights = (pv_var + var)/2.0\n",
    "            new_var = tf.where(cond, new_var_m, avg_weights)\n",
    "        pv_var.assign(var)\n",
    "        pg_var.assign(grad)\n",
    "        var.assign(new_var)\n",
    "\n",
    "    def _resource_apply_sparse(self, grad, var):\n",
    "        raise NotImplementedError\n",
    "\n",
    "    def get_config(self):\n",
    "        base_config = super().get_config()\n",
    "        return {\n",
    "            **base_config,\n",
    "            \"learning_rate\": self._serialize_hyperparameter(\"learning_rate\"),\n",
    "        }"
   ]
  },
  {
   "cell_type": "code",
   "execution_count": 47,
   "metadata": {
    "id": "ZO3A7v2a6Two"
   },
   "outputs": [],
   "source": []
  },
  {
   "cell_type": "markdown",
   "metadata": {
    "id": "kWomG3TtLo9I"
   },
   "source": [
    "We now have a `tff.federated_computation` for both the algorithm initialization, and for running one step of the algorithm. To finish our algorithm, we pass these into `tff.templates.IterativeProcess`."
   ]
  },
  {
   "cell_type": "code",
   "execution_count": 348,
   "metadata": {
    "id": "GxdWgEddLo9I"
   },
   "outputs": [],
   "source": [
    "federated_algorithm = tff.templates.IterativeProcess(\n",
    "    initialize_fn=initialize_fn,\n",
    "    next_fn=next_fn\n",
    ")"
   ]
  },
  {
   "cell_type": "code",
   "execution_count": 50,
   "metadata": {
    "id": "XNfYxuDA6Z5s"
   },
   "outputs": [
    {
     "name": "stdout",
     "output_type": "stream",
     "text": [
      "WARNING:tensorflow:Please add `keras.layers.InputLayer` instead of `keras.Input` to Sequential model. `keras.Input` is intended to be used by Functional model.\n"
     ]
    },
    {
     "name": "stderr",
     "output_type": "stream",
     "text": [
      "WARNING:tensorflow:Please add `keras.layers.InputLayer` instead of `keras.Input` to Sequential model. `keras.Input` is intended to be used by Functional model.\n"
     ]
    },
    {
     "name": "stdout",
     "output_type": "stream",
     "text": [
      "WARNING:tensorflow:6 out of the last 6 calls to <function _KerasModel.report_local_outputs at 0x2aacd5ab7700> triggered tf.function retracing. Tracing is expensive and the excessive number of tracings could be due to (1) creating @tf.function repeatedly in a loop, (2) passing tensors with different shapes, (3) passing Python objects instead of tensors. For (1), please define your @tf.function outside of the loop. For (2), @tf.function has experimental_relax_shapes=True option that relaxes argument shapes that can avoid unnecessary retracing. For (3), please refer to https://www.tensorflow.org/guide/function#controlling_retracing and https://www.tensorflow.org/api_docs/python/tf/function for  more details.\n"
     ]
    },
    {
     "name": "stderr",
     "output_type": "stream",
     "text": [
      "WARNING:tensorflow:6 out of the last 6 calls to <function _KerasModel.report_local_outputs at 0x2aacd5ab7700> triggered tf.function retracing. Tracing is expensive and the excessive number of tracings could be due to (1) creating @tf.function repeatedly in a loop, (2) passing tensors with different shapes, (3) passing Python objects instead of tensors. For (1), please define your @tf.function outside of the loop. For (2), @tf.function has experimental_relax_shapes=True option that relaxes argument shapes that can avoid unnecessary retracing. For (3), please refer to https://www.tensorflow.org/guide/function#controlling_retracing and https://www.tensorflow.org/api_docs/python/tf/function for  more details.\n"
     ]
    },
    {
     "name": "stdout",
     "output_type": "stream",
     "text": [
      "WARNING:tensorflow:Please add `keras.layers.InputLayer` instead of `keras.Input` to Sequential model. `keras.Input` is intended to be used by Functional model.\n"
     ]
    },
    {
     "name": "stderr",
     "output_type": "stream",
     "text": [
      "WARNING:tensorflow:Please add `keras.layers.InputLayer` instead of `keras.Input` to Sequential model. `keras.Input` is intended to be used by Functional model.\n"
     ]
    },
    {
     "name": "stdout",
     "output_type": "stream",
     "text": [
      "WARNING:tensorflow:Please add `keras.layers.InputLayer` instead of `keras.Input` to Sequential model. `keras.Input` is intended to be used by Functional model.\n"
     ]
    },
    {
     "name": "stderr",
     "output_type": "stream",
     "text": [
      "WARNING:tensorflow:Please add `keras.layers.InputLayer` instead of `keras.Input` to Sequential model. `keras.Input` is intended to be used by Functional model.\n"
     ]
    },
    {
     "name": "stdout",
     "output_type": "stream",
     "text": [
      "WARNING:tensorflow:Please add `keras.layers.InputLayer` instead of `keras.Input` to Sequential model. `keras.Input` is intended to be used by Functional model.\n"
     ]
    },
    {
     "name": "stderr",
     "output_type": "stream",
     "text": [
      "WARNING:tensorflow:Please add `keras.layers.InputLayer` instead of `keras.Input` to Sequential model. `keras.Input` is intended to be used by Functional model.\n"
     ]
    },
    {
     "name": "stdout",
     "output_type": "stream",
     "text": [
      "WARNING:tensorflow:Please add `keras.layers.InputLayer` instead of `keras.Input` to Sequential model. `keras.Input` is intended to be used by Functional model.\n"
     ]
    },
    {
     "name": "stderr",
     "output_type": "stream",
     "text": [
      "WARNING:tensorflow:Please add `keras.layers.InputLayer` instead of `keras.Input` to Sequential model. `keras.Input` is intended to be used by Functional model.\n"
     ]
    },
    {
     "name": "stdout",
     "output_type": "stream",
     "text": [
      "WARNING:tensorflow:Please add `keras.layers.InputLayer` instead of `keras.Input` to Sequential model. `keras.Input` is intended to be used by Functional model.\n"
     ]
    },
    {
     "name": "stderr",
     "output_type": "stream",
     "text": [
      "WARNING:tensorflow:Please add `keras.layers.InputLayer` instead of `keras.Input` to Sequential model. `keras.Input` is intended to be used by Functional model.\n"
     ]
    },
    {
     "name": "stdout",
     "output_type": "stream",
     "text": [
      "WARNING:tensorflow:Please add `keras.layers.InputLayer` instead of `keras.Input` to Sequential model. `keras.Input` is intended to be used by Functional model.\n"
     ]
    },
    {
     "name": "stderr",
     "output_type": "stream",
     "text": [
      "WARNING:tensorflow:Please add `keras.layers.InputLayer` instead of `keras.Input` to Sequential model. `keras.Input` is intended to be used by Functional model.\n"
     ]
    },
    {
     "name": "stdout",
     "output_type": "stream",
     "text": [
      "WARNING:tensorflow:Please add `keras.layers.InputLayer` instead of `keras.Input` to Sequential model. `keras.Input` is intended to be used by Functional model.\n"
     ]
    },
    {
     "name": "stderr",
     "output_type": "stream",
     "text": [
      "WARNING:tensorflow:Please add `keras.layers.InputLayer` instead of `keras.Input` to Sequential model. `keras.Input` is intended to be used by Functional model.\n"
     ]
    },
    {
     "name": "stdout",
     "output_type": "stream",
     "text": [
      "WARNING:tensorflow:Please add `keras.layers.InputLayer` instead of `keras.Input` to Sequential model. `keras.Input` is intended to be used by Functional model.\n"
     ]
    },
    {
     "name": "stderr",
     "output_type": "stream",
     "text": [
      "WARNING:tensorflow:Please add `keras.layers.InputLayer` instead of `keras.Input` to Sequential model. `keras.Input` is intended to be used by Functional model.\n"
     ]
    },
    {
     "name": "stdout",
     "output_type": "stream",
     "text": [
      "WARNING:tensorflow:Please add `keras.layers.InputLayer` instead of `keras.Input` to Sequential model. `keras.Input` is intended to be used by Functional model.\n"
     ]
    },
    {
     "name": "stderr",
     "output_type": "stream",
     "text": [
      "WARNING:tensorflow:Please add `keras.layers.InputLayer` instead of `keras.Input` to Sequential model. `keras.Input` is intended to be used by Functional model.\n"
     ]
    }
   ],
   "source": [
    "federated_algorithm_public = build_scaffold_averaging_process(\n",
    "    model_fn,\n",
    "    num_clients=10,\n",
    "    dp_clip_norm=1.0,\n",
    "    server_optimizer_fn=DEFAULT_SERVER_OPTIMIZER_FN,\n",
    "    client_optimizer_fn=DEFAULT_CLIENT_OPTIMIZER_FN,\n",
    "    use_simulation_loop=True,\n",
    "    update_type='public')\n",
    "\n",
    "federated_algorithm_private = build_scaffold_averaging_process(\n",
    "    model_fn,\n",
    "    num_clients=10,\n",
    "    dp_clip_norm=1.0,\n",
    "    server_optimizer_fn=DEFAULT_SERVER_OPTIMIZER_FN,\n",
    "    client_optimizer_fn=DEFAULT_CLIENT_OPTIMIZER_FN,\n",
    "    use_simulation_loop=True,\n",
    "    update_type='private')"
   ]
  },
  {
   "cell_type": "code",
   "execution_count": null,
   "metadata": {
    "id": "-ASIwr-QV6Vg"
   },
   "outputs": [],
   "source": []
  },
  {
   "cell_type": "code",
   "execution_count": null,
   "metadata": {
    "id": "RmHd4RdIWUWf"
   },
   "outputs": [],
   "source": []
  },
  {
   "cell_type": "code",
   "execution_count": null,
   "metadata": {
    "id": "buEVORuWViRg"
   },
   "outputs": [],
   "source": []
  },
  {
   "cell_type": "markdown",
   "metadata": {
    "id": "7Z__9k-Dc1I3"
   },
   "source": [
    "Let's look at the *type signature* of the `initialize` and `next` functions of our iterative process."
   ]
  },
  {
   "cell_type": "code",
   "execution_count": null,
   "metadata": {
    "id": "dN6U_HE9WSRa"
   },
   "outputs": [],
   "source": []
  },
  {
   "cell_type": "code",
   "execution_count": 349,
   "metadata": {
    "id": "EmyYgDNdG2mF"
   },
   "outputs": [
    {
     "data": {
      "text/plain": [
       "'( -> <float32[784,10],float32[10]>@SERVER)'"
      ]
     },
     "execution_count": 349,
     "metadata": {},
     "output_type": "execute_result"
    }
   ],
   "source": [
    "str(federated_algorithm.initialize.type_signature)"
   ]
  },
  {
   "cell_type": "markdown",
   "metadata": {
    "id": "UyyEi5Kec90_"
   },
   "source": [
    "This reflects the fact that `federated_algorithm.initialize` is a no-arg function that returns a single-layer model (with a 784-by-10 weight matrix, and 10 bias units)."
   ]
  },
  {
   "cell_type": "code",
   "execution_count": 350,
   "metadata": {
    "id": "ZRwHwQsCG2mG"
   },
   "outputs": [
    {
     "data": {
      "text/plain": [
       "'(<server_weights=<float32[784,10],float32[10]>@SERVER,federated_dataset={<float32[?,784],int32[?,1]>*}@CLIENTS,server_state=float32@SERVER,client_states={float32}@CLIENTS> -> <float32[784,10],float32[10]>@SERVER)'"
      ]
     },
     "execution_count": 350,
     "metadata": {},
     "output_type": "execute_result"
    }
   ],
   "source": [
    "str(federated_algorithm.next.type_signature)"
   ]
  },
  {
   "cell_type": "markdown",
   "metadata": {
    "id": "efpdHodmdU_6"
   },
   "source": [
    "Here, we see that `federated_algorithm.next` accepts a server model and client data, and returns an updated server model."
   ]
  },
  {
   "cell_type": "markdown",
   "metadata": {
    "id": "4UYZ3qeMLo9N"
   },
   "source": [
    "## Evaluating the algorithm"
   ]
  },
  {
   "cell_type": "markdown",
   "metadata": {
    "id": "jwd9Gs0ULo9O"
   },
   "source": [
    "Let's run a few rounds, and see how the loss changes. First, we will define an evaluation function using the *centralized* approach discussed in the second tutorial.\n",
    "\n",
    "We first create a centralized evaluation dataset, and then apply the same preprocessing we used for the training data."
   ]
  },
  {
   "cell_type": "code",
   "execution_count": 351,
   "metadata": {
    "id": "EdNgYoIwLo9P"
   },
   "outputs": [],
   "source": [
    "central_emnist_test = emnist_test.create_tf_dataset_from_all_clients()\n",
    "central_emnist_test = preprocess(central_emnist_test)"
   ]
  },
  {
   "cell_type": "code",
   "execution_count": 72,
   "metadata": {},
   "outputs": [],
   "source": [
    "# # print('Number of client datasets: {l}'.format(l=len(central_emnist_test)))\n",
    "# print('First dataset: {d}'.format(d=central_emnist_test[0]))"
   ]
  },
  {
   "cell_type": "code",
   "execution_count": null,
   "metadata": {
    "id": "kt8qjfeg9l4Y"
   },
   "outputs": [],
   "source": []
  },
  {
   "cell_type": "markdown",
   "metadata": {
    "id": "7R50NZ35dphE"
   },
   "source": [
    "Next, we write a function that accepts a server state, and uses Keras to evaluate on the test dataset. If you're familiar with `tf.Keras`, this will all look familiar, though note the use of `set_weights`!"
   ]
  },
  {
   "cell_type": "code",
   "execution_count": 352,
   "metadata": {
    "id": "I5UEX4EWLo9Q"
   },
   "outputs": [],
   "source": [
    "def evaluate(server_state):\n",
    "  keras_model = create_keras_model()\n",
    "  keras_model.compile(\n",
    "      loss=tf.keras.losses.SparseCategoricalCrossentropy(),\n",
    "      metrics=[tf.keras.metrics.SparseCategoricalAccuracy()]  \n",
    "  )\n",
    "  keras_model.set_weights(server_state)\n",
    "  keras_model.evaluate(central_emnist_test)"
   ]
  },
  {
   "cell_type": "markdown",
   "metadata": {
    "id": "hygoBACkLo9S"
   },
   "source": [
    "Now, let's initialize our algorithm and evaluate on the test set."
   ]
  },
  {
   "cell_type": "code",
   "execution_count": 353,
   "metadata": {
    "id": "CDarZn71G2mH"
   },
   "outputs": [
    {
     "name": "stdout",
     "output_type": "stream",
     "text": [
      "WARNING:tensorflow:Please add `keras.layers.InputLayer` instead of `keras.Input` to Sequential model. `keras.Input` is intended to be used by Functional model.\n"
     ]
    },
    {
     "name": "stderr",
     "output_type": "stream",
     "text": [
      "WARNING:tensorflow:Please add `keras.layers.InputLayer` instead of `keras.Input` to Sequential model. `keras.Input` is intended to be used by Functional model.\n"
     ]
    },
    {
     "name": "stdout",
     "output_type": "stream",
     "text": [
      "2042/2042 [==============================] - 35s 17ms/step - loss: 2.8479 - sparse_categorical_accuracy: 0.1027\n"
     ]
    }
   ],
   "source": [
    "server_state = federated_algorithm.initialize()\n",
    "# print(server_state)\n",
    "evaluate(server_state)\n"
   ]
  },
  {
   "cell_type": "code",
   "execution_count": 66,
   "metadata": {
    "id": "VTIXmo4WDS7h"
   },
   "outputs": [
    {
     "name": "stdout",
     "output_type": "stream",
     "text": [
      "[array([[-0.0968272 , -0.02746578, -0.03778507, ...,  0.04118082,\n",
      "         0.09491801, -0.00668141],\n",
      "       [ 0.02177309,  0.0265556 , -0.03350093, ...,  0.01478878,\n",
      "        -0.06294745, -0.07656068],\n",
      "       [ 0.05641175, -0.01847302,  0.07688204, ...,  0.01760333,\n",
      "         0.00447983,  0.03216938],\n",
      "       ...,\n",
      "       [ 0.00653809, -0.02494238,  0.0393483 , ...,  0.03873714,\n",
      "         0.0476413 ,  0.05248557],\n",
      "       [-0.03213382,  0.00638541,  0.00612707, ..., -0.0424929 ,\n",
      "        -0.08011755,  0.0508595 ],\n",
      "       [-0.05420608,  0.05183837, -0.00588615, ...,  0.04451389,\n",
      "         0.04831592,  0.08302379]], dtype=float32), array([0., 0., 0., 0., 0., 0., 0., 0., 0., 0.], dtype=float32)]\n",
      "WARNING:tensorflow:Please add `keras.layers.InputLayer` instead of `keras.Input` to Sequential model. `keras.Input` is intended to be used by Functional model.\n"
     ]
    },
    {
     "name": "stderr",
     "output_type": "stream",
     "text": [
      "WARNING:tensorflow:Please add `keras.layers.InputLayer` instead of `keras.Input` to Sequential model. `keras.Input` is intended to be used by Functional model.\n"
     ]
    },
    {
     "name": "stdout",
     "output_type": "stream",
     "text": [
      "2042/2042 [==============================] - 27s 13ms/step - loss: 2.8479 - sparse_categorical_accuracy: 0.1027\n"
     ]
    }
   ],
   "source": [
    "server_state = federated_algorithm_public.initialize()\n",
    "# print(server_state.model.trainable)\n",
    "evaluate(server_state.model.trainable)\n"
   ]
  },
  {
   "cell_type": "markdown",
   "metadata": {
    "id": "2knqix2cLo9U"
   },
   "source": [
    "Let's train for a few rounds and see if anything changes."
   ]
  },
  {
   "cell_type": "code",
   "execution_count": 76,
   "metadata": {
    "id": "902b9VYGAV0k"
   },
   "outputs": [],
   "source": [
    "# round_num = tf.cast(0, tf.int32)\n",
    "\n",
    "# for round in range(15):\n",
    "#   # 1. Update the model weights using the private clients and using the old control variates\n",
    "#   state_w_weights, _, client_states = federated_algorithm_private.next(\n",
    "#       server_state, federated_train_data,\n",
    "#       client_states)\n",
    "\n",
    "#   # 2. Update the control variates using the public clients\n",
    "#   state_w_controls, _, client_states = federated_algorithm_public.next(\n",
    "#       server_state, federated_train_data,\n",
    "#       client_states)\n",
    "\n",
    "#   # 3. Merge updates from both states into original state variable\n",
    "#   server_state = tff.structure.update_struct(\n",
    "#     server_state,\n",
    "#     model = state_w_weights.model,\n",
    "#     optimizer_state = state_w_weights.optimizer_state,\n",
    "#     round_num=round_num + tf.cast(1, tf.int32),\n",
    "#     mean_control_weights=state_w_controls.mean_control_weights)"
   ]
  },
  {
   "cell_type": "code",
   "execution_count": 106,
   "metadata": {
    "id": "v1zBlzFILo9U"
   },
   "outputs": [
    {
     "ename": "AttributeError",
     "evalue": "'list' object has no attribute 'model'",
     "output_type": "error",
     "traceback": [
      "\u001b[0;31m---------------------------------------------------------------------------\u001b[0m",
      "\u001b[0;31mAttributeError\u001b[0m                            Traceback (most recent call last)",
      "Input \u001b[0;32mIn [106]\u001b[0m, in \u001b[0;36m<module>\u001b[0;34m\u001b[0m\n\u001b[0;32m----> 1\u001b[0m evaluate(\u001b[43mserver_state\u001b[49m\u001b[38;5;241;43m.\u001b[39;49m\u001b[43mmodel\u001b[49m\u001b[38;5;241m.\u001b[39mtrainable)\n",
      "\u001b[0;31mAttributeError\u001b[0m: 'list' object has no attribute 'model'"
     ]
    }
   ],
   "source": [
    "evaluate(server_state.model.trainable)"
   ]
  },
  {
   "cell_type": "code",
   "execution_count": 354,
   "metadata": {
    "id": "1CPgToxxdkxB"
   },
   "outputs": [
    {
     "name": "stdout",
     "output_type": "stream",
     "text": [
      "10\n",
      "[0.0, 0.0, 0.0, 0.0, 0.0, 0.0, 0.0, 0.0, 0.0, 0.0]\n",
      "0\n",
      "1\n",
      "2\n",
      "3\n",
      "4\n",
      "5\n",
      "6\n",
      "7\n",
      "8\n",
      "9\n"
     ]
    }
   ],
   "source": [
    "# for round in range(10):\n",
    "#   server_state = federated_algorithm.next(server_state, federated_train_data)\n",
    "server_states = 0\n",
    "length = len(federated_train_data)\n",
    "print(length)\n",
    "\n",
    "client_states = [0.0]*length\n",
    "print(client_states)\n",
    "\n",
    "for round in range(10):\n",
    "  print(round)\n",
    "  server_state = federated_algorithm.next(server_state, federated_train_data, server_states, client_states)"
   ]
  },
  {
   "cell_type": "code",
   "execution_count": 233,
   "metadata": {},
   "outputs": [
    {
     "data": {
      "text/plain": [
       "[array([[-0.09994101, -0.02816051, -0.03737728, ...,  0.0424078 ,\n",
       "          0.09573044, -0.00639346],\n",
       "        [ 0.01865929,  0.02586088, -0.03309314, ...,  0.01601576,\n",
       "         -0.06213504, -0.07627273],\n",
       "        [ 0.05329795, -0.01916775,  0.07728984, ...,  0.01883031,\n",
       "          0.00529224,  0.03245732],\n",
       "        ...,\n",
       "        [ 0.00342429, -0.02563711,  0.0397561 , ...,  0.03996412,\n",
       "          0.04845372,  0.05277352],\n",
       "        [-0.03524762,  0.00569069,  0.00653488, ..., -0.04126592,\n",
       "         -0.07930513,  0.05114744],\n",
       "        [-0.05731988,  0.05114365, -0.00547834, ...,  0.04574087,\n",
       "          0.04912834,  0.08331173]], dtype=float32),\n",
       " array([-0.0031138 , -0.00069473,  0.0004078 , -0.00053501,  0.00369056,\n",
       "        -0.00076896, -0.0013132 ,  0.00122698,  0.00081242,  0.00028795],\n",
       "       dtype=float32)]"
      ]
     },
     "execution_count": 233,
     "metadata": {},
     "output_type": "execute_result"
    }
   ],
   "source": [
    "federated_algorithm.next(server_state, federated_train_data)"
   ]
  },
  {
   "cell_type": "code",
   "execution_count": 55,
   "metadata": {
    "id": "Pls86eGJD6_S"
   },
   "outputs": [],
   "source": [
    "client_states = []\n",
    "\n",
    "def client_init_fn(client_id):\n",
    "    control_weights = tf.nest.map_structure(tf.zeros_like,\n",
    "                                            server_state.model.trainable)\n",
    "    return ClientState(\n",
    "        client_id=client_id, control_weights=control_weights)\n",
    "\n",
    "c_id=str(1)\n",
    "for client_id in federated_train_data:\n",
    "      client_state = client_init_fn(c_id)\n",
    "      client_states.append(client_state)\n",
    "      c_id = str(int(c_id) + 1)\n",
    "\n",
    "# print(client_states)\n",
    "\n",
    "for round in range(5):\n",
    "  server_state, _, client_states = federated_algorithm_public.next(\n",
    "      server_state, federated_train_data,\n",
    "      client_states)\n"
   ]
  },
  {
   "cell_type": "code",
   "execution_count": 355,
   "metadata": {
    "id": "2QDhaI_DG2mH"
   },
   "outputs": [
    {
     "name": "stdout",
     "output_type": "stream",
     "text": [
      "WARNING:tensorflow:Please add `keras.layers.InputLayer` instead of `keras.Input` to Sequential model. `keras.Input` is intended to be used by Functional model.\n"
     ]
    },
    {
     "name": "stderr",
     "output_type": "stream",
     "text": [
      "WARNING:tensorflow:Please add `keras.layers.InputLayer` instead of `keras.Input` to Sequential model. `keras.Input` is intended to be used by Functional model.\n"
     ]
    },
    {
     "name": "stdout",
     "output_type": "stream",
     "text": [
      "2042/2042 [==============================] - 40s 19ms/step - loss: 2.6442 - sparse_categorical_accuracy: 0.0980\n"
     ]
    }
   ],
   "source": [
    "evaluate(server_state)\n",
    "# evaluate(server_state.model.trainable)\n"
   ]
  },
  {
   "cell_type": "markdown",
   "metadata": {
    "id": "XM34ammUW-T3"
   },
   "source": [
    "We see a slight decrease in the loss function. While the jump is small, we've only performed 15 training rounds, and on a small subset of clients. To see better results, we may have to do hundreds if not thousands of rounds."
   ]
  },
  {
   "cell_type": "markdown",
   "metadata": {
    "id": "o13H5dDFXRFn"
   },
   "source": [
    "## Modifying our algorithm"
   ]
  },
  {
   "cell_type": "markdown",
   "metadata": {
    "id": "Qt4jVD21XTL-"
   },
   "source": [
    "At this point, let's stop and think about what we've accomplished. We've implemented Federated Averaging directly by combining pure TensorFlow code (for the client and server updates) with federated computations from the Federated Core of TFF.\n",
    "\n",
    "To perform more sophisticted learning, we can simply alter what we have above. In particular, by editing the pure TF code above, we can change how the client performs training, or how the server updates its model.\n",
    "\n",
    "**Challenge:** Add [gradient clipping](https://towardsdatascience.com/what-is-gradient-clipping-b8e815cdfb48) to the `client_update` function.\n"
   ]
  },
  {
   "cell_type": "markdown",
   "metadata": {
    "id": "p7wvwgS7bCTy"
   },
   "source": [
    "If we wanted to make larger changes, we could also have the server store and broadcast more data. For example, the server could also store the client learning rate, and make it decay over time! Note that this will require changes to the type signatures used in the `tff.tf_computation` calls above.\n",
    "\n",
    "**Harder Challenge:** Implement Federated Averaging with learning rate decay on the clients.\n",
    "\n",
    "At this point, you may begin to realize how much flexibility there is in what you can implement in this framework. For ideas (including the answer to the harder challenge above) you can see the source-code for [`tff.learning.build_federated_averaging_process`](https://www.tensorflow.org/federated/api_docs/python/tff/learning/build_federated_averaging_process), or check out various [research projects](https://github.com/google-research/federated) using TFF."
   ]
  }
 ],
 "metadata": {
  "colab": {
   "collapsed_sections": [],
   "name": "SCAFFOLD - FL algorithm.ipynb",
   "provenance": []
  },
  "kernelspec": {
   "display_name": "TFF",
   "language": "python",
   "name": "tff"
  },
  "language_info": {
   "codemirror_mode": {
    "name": "ipython",
    "version": 3
   },
   "file_extension": ".py",
   "mimetype": "text/x-python",
   "name": "python",
   "nbconvert_exporter": "python",
   "pygments_lexer": "ipython3",
   "version": "3.9.7"
  }
 },
 "nbformat": 4,
 "nbformat_minor": 4
}
